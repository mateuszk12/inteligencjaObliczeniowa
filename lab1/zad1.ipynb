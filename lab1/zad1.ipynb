{
 "cells": [
  {
   "cell_type": "code",
   "execution_count": 4,
   "id": "2d8e9f77",
   "metadata": {},
   "outputs": [
    {
     "name": "stdout",
     "output_type": "stream",
     "text": [
      "2\n",
      "3\n",
      "4\n",
      "5\n",
      "6\n",
      "7\n",
      "8\n",
      "9\n",
      "False\n"
     ]
    }
   ],
   "source": [
    "import math\n",
    "def prime(n):\n",
    "    isPrime = True\n",
    "    for i in range(2,int(math.sqrt(n))+1):\n",
    "        print(i)\n",
    "        if n % i == 0:\n",
    "            isPrime = False\n",
    "    return isPrime\n",
    "print(prime(90))"
   ]
  },
  {
   "cell_type": "code",
   "execution_count": null,
   "id": "19378cdf",
   "metadata": {},
   "outputs": [],
   "source": []
  }
 ],
 "metadata": {
  "kernelspec": {
   "display_name": "Python 3",
   "language": "python",
   "name": "python3"
  },
  "language_info": {
   "codemirror_mode": {
    "name": "ipython",
    "version": 3
   },
   "file_extension": ".py",
   "mimetype": "text/x-python",
   "name": "python",
   "nbconvert_exporter": "python",
   "pygments_lexer": "ipython3",
   "version": "3.10.7"
  },
  "vscode": {
   "interpreter": {
    "hash": "0f7c5ce30e5f0d7cc845aa124c9e975c020ec21fe98e4a7c7b29adf0872a8c47"
   }
  }
 },
 "nbformat": 4,
 "nbformat_minor": 5
}
